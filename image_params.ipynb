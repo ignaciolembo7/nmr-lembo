{
 "cells": [
  {
   "cell_type": "code",
   "execution_count": null,
   "metadata": {},
   "outputs": [
    {
     "data": {
      "application/vnd.jupyter.widget-view+json": {
       "model_id": "51cceb78967d4c4a86d7c7a6d9744f5f",
       "version_major": 2,
       "version_minor": 0
      },
      "text/plain": [
       "Text(value='tesis_final_final/results_levaduras_20240613', description='File Name:')"
      ]
     },
     "metadata": {},
     "output_type": "display_data"
    },
    {
     "data": {
      "application/vnd.jupyter.widget-view+json": {
       "model_id": "0ec04702c1b8416693b7986ad85a22b8",
       "version_major": 2,
       "version_minor": 0
      },
      "text/plain": [
       "Text(value='C:/Users/Ignacio Lembo/data/data_levaduras_20240613', description='Data Dir:')"
      ]
     },
     "metadata": {},
     "output_type": "display_data"
    },
    {
     "data": {
      "application/vnd.jupyter.widget-view+json": {
       "model_id": "5d5fc6fe00824745a3a50b0d26c86ea3",
       "version_major": 2,
       "version_minor": 0
      },
      "text/plain": [
       "Text(value='contrast_vs_g_data', description='Folder:')"
      ]
     },
     "metadata": {},
     "output_type": "display_data"
    },
    {
     "data": {
      "application/vnd.jupyter.widget-view+json": {
       "model_id": "995239a225ff489bb86c23e86f47311e",
       "version_major": 2,
       "version_minor": 0
      },
      "text/plain": [
       "Text(value='ROI1', description='ROIs (comma sep):')"
      ]
     },
     "metadata": {},
     "output_type": "display_data"
    },
    {
     "data": {
      "application/vnd.jupyter.widget-view+json": {
       "model_id": "11bc5410affa413caf00e4345e8540d1",
       "version_major": 2,
       "version_minor": 0
      },
      "text/plain": [
       "Text(value='1', description='Masks (comma sep):')"
      ]
     },
     "metadata": {},
     "output_type": "display_data"
    },
    {
     "data": {
      "application/vnd.jupyter.widget-view+json": {
       "model_id": "dc7d848507fc4ddf8233bf3273fb9d70",
       "version_major": 2,
       "version_minor": 0
      },
      "text/plain": [
       "IntText(value=0, description='Slice:')"
      ]
     },
     "metadata": {},
     "output_type": "display_data"
    },
    {
     "data": {
      "application/vnd.jupyter.widget-view+json": {
       "model_id": "10fb4ca3d4984d1cab1842011848adb7",
       "version_major": 2,
       "version_minor": 0
      },
      "text/plain": [
       "Button(description='Run Analysis', style=ButtonStyle())"
      ]
     },
     "metadata": {},
     "output_type": "display_data"
    }
   ],
   "source": [
    "import ipywidgets as widgets\n",
    "from IPython.display import display\n",
    "import numpy as np\n",
    "import matplotlib.pyplot as plt\n",
    "from protocols import nogse\n",
    "import os\n",
    "import seaborn as sns\n",
    "\n",
    "# Configuración de estilo\n",
    "def set_style():\n",
    "    sns.set_theme(context='paper')\n",
    "    sns.set_style(\"whitegrid\")\n",
    "set_style()\n",
    "\n",
    "# Widgets para la entrada de datos\n",
    "file_name = widgets.Text(value=\"tesis_final_final/results_levaduras_20240613\", description=\"File Name:\")\n",
    "data_directory = widgets.Text(value=\"C:/Users/Ignacio Lembo/data/data_levaduras_20240613\", description=\"Data Dir:\")\n",
    "folder = widgets.Text(value=\"contrast_vs_g_data\", description=\"Folder:\")\n",
    "rois = widgets.Text(value=\"ROI1\", description=\"ROIs (comma sep):\")\n",
    "masks = widgets.Text(value=\"1\", description=\"Masks (comma sep):\")\n",
    "slic = widgets.IntText(value=0, description=\"Slice:\")\n",
    "run_button = widgets.Button(description=\"Run Analysis\")\n",
    "\n",
    "# Mostrar widgets\n",
    "display(file_name, data_directory, folder, rois, masks, slic, run_button)\n",
    "\n",
    "def run_analysis(b):\n",
    "    set_style()\n",
    "    rois_list = rois.value.split(',')\n",
    "    masks_list = list(map(int, masks.value.split(',')))\n",
    "    \n",
    "    palette = sns.color_palette(\"tab10\", len(rois_list) + 1)\n",
    "    \n",
    "    image_paths_A0, method_paths_A0 = nogse.upload_contrast_data_A0_v2(data_directory.value, 0)\n",
    "    image_paths, method_paths = nogse.upload_contrast_data_v2(data_directory.value, 0)\n",
    "    \n",
    "    mask = np.loadtxt(f\"rois/mask_2.txt\")\n",
    "    tnogse, g_contrast, n, f_A0_hahn_noise, f_A0_cpmg_noise = nogse.generate_contrast_vs_g_roi(image_paths_A0, method_paths_A0, mask, slic.value)\n",
    "    tnogse, g_contrast, n, f_hahn_noise, f_cpmg_noise = nogse.generate_contrast_vs_g_roi(image_paths, method_paths, mask, slic.value)\n",
    "    \n",
    "    f_noise = (np.array(f_cpmg_noise) + np.array(f_hahn_noise)) / 2\n",
    "    fig, ax = plt.subplots(figsize=(8, 6))\n",
    "    \n",
    "    for roi, mask, color in zip(rois_list, masks_list, palette):\n",
    "        mask = np.loadtxt(f\"rois/mask_{mask}.txt\")\n",
    "        fig1, ax1 = plt.subplots(figsize=(8, 6))\n",
    "        \n",
    "        f_A0_cpmg_noise = np.zeros(len(g_contrast))\n",
    "        f_A0_hahn_noise = np.zeros(len(g_contrast))\n",
    "        f_cpmg_noise = np.zeros(len(g_contrast))\n",
    "        f_hahn_noise = np.zeros(len(g_contrast))\n",
    "        \n",
    "        tnogse, g, n, f_A0_hahn, f_A0_cpmg = nogse.generate_contrast_vs_g_roi_A0_riciannoise(image_paths_A0, method_paths_A0, mask, slic.value, f_A0_hahn_noise, f_A0_cpmg_noise)\n",
    "        tnogse, g, n, f_hahn, f_cpmg = nogse.generate_contrast_vs_g_roi_riciannoise(image_paths, method_paths, mask, slic.value, f_hahn_noise, f_cpmg_noise)\n",
    "        \n",
    "        f = f_cpmg / f_A0_cpmg - f_hahn / f_A0_hahn\n",
    "        directory = f\"../results_{file_name.value}/{folder.value}/tnogse={tnogse}_N={int(n)}\"\n",
    "        os.makedirs(directory, exist_ok=True)\n",
    "        \n",
    "        nogse.plot_contrast_vs_g_data(ax, roi, g, f, np.abs((np.std(f_noise) / np.mean(f_noise)) * np.array(f)), tnogse, n, slic.value, color)\n",
    "        nogse.plot_contrast_vs_g_data(ax1, roi, g, f, np.abs((np.std(f_noise) / np.mean(f_noise)) * np.array(f)), tnogse, n, slic.value, color)\n",
    "        \n",
    "        table = np.vstack((g, f, (np.std(f_noise) / np.mean(f_noise)) * np.array(f), f_cpmg, (np.std(f_noise) / np.mean(f_noise)) * np.array(f_cpmg), f_hahn, (np.std(f_noise) / np.mean(f_noise)) * np.array(f_hahn)))\n",
    "        np.savetxt(f\"{directory}/{roi}_data_contrast_vs_g_tnogse={tnogse}_N={int(n)}.txt\", table.T, delimiter=' ', newline='\\n')\n",
    "        \n",
    "        fig1.tight_layout()\n",
    "        fig1.savefig(f\"{directory}/{roi}_contrast_vs_g_tnogse={tnogse}_N={n}.pdf\")\n",
    "        fig1.savefig(f\"{directory}/{roi}_contrast_vs_g_tnogse={tnogse}_N={n}.png\", dpi=600)\n",
    "        plt.close(fig1)\n",
    "    \n",
    "    fig.tight_layout()\n",
    "    fig.savefig(f\"{directory}/contrast_vs_g_tnogse={tnogse}_N={n}.pdf\")\n",
    "    fig.savefig(f\"{directory}/contrast_vs_g_tnogse={tnogse}_N={n}.png\", dpi=600)\n",
    "    plt.close(fig)\n",
    "    print(\"Analysis completed!\")\n",
    "\n",
    "run_button.on_click(run_analysis)\n",
    "import ipywidgets as widgets\n",
    "from IPython.display import display, Javascript\n",
    "\n",
    "def toggle_code(_):\n",
    "    display(Javascript('''\n",
    "        code_show = !code_show;\n",
    "        code_input = document.querySelectorAll('.input');\n",
    "        for (var i = 0; i < code_input.length; i++) {\n",
    "            code_input[i].style.display = code_show ? 'none' : 'block';\n",
    "        }\n",
    "    '''))\n",
    "\n",
    "toggle_button = widgets.Button(description=\"Mostrar/Ocultar Código\")\n",
    "toggle_button.on_click(toggle_code)\n",
    "display(toggle_button)\n"
   ]
  },
  {
   "cell_type": "code",
   "execution_count": null,
   "metadata": {},
   "outputs": [],
   "source": [
    "from IPython.core.display import HTML\n",
    "\n",
    "HTML('''\n",
    "<script>\n",
    "code_show = false; \n",
    "function code_toggle() {\n",
    "    if (code_show){\n",
    "        $('div.input').show();\n",
    "    } else {\n",
    "        $('div.input').hide();\n",
    "    }\n",
    "    code_show = !code_show\n",
    "} \n",
    "$(document).ready(code_toggle);\n",
    "</script>\n",
    "<form action=\"javascript:code_toggle()\"><input type=\"submit\" value=\"Mostrar/Ocultar Código\"></form>\n",
    "''')"
   ]
  }
 ],
 "metadata": {
  "kernelspec": {
   "display_name": "Python 3",
   "language": "python",
   "name": "python3"
  },
  "language_info": {
   "codemirror_mode": {
    "name": "ipython",
    "version": 3
   },
   "file_extension": ".py",
   "mimetype": "text/x-python",
   "name": "python",
   "nbconvert_exporter": "python",
   "pygments_lexer": "ipython3",
   "version": "3.11.9"
  }
 },
 "nbformat": 4,
 "nbformat_minor": 2
}
