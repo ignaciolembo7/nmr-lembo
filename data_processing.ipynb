{
 "cells": [
  {
   "cell_type": "markdown",
   "metadata": {},
   "source": [
    "# ROI select"
   ]
  },
  {
   "cell_type": "code",
   "execution_count": 4,
   "metadata": {},
   "outputs": [
    {
     "ename": "error",
     "evalue": "OpenCV(4.11.0) D:\\a\\opencv-python\\opencv-python\\opencv\\modules\\imgproc\\src\\resize.cpp:4208: error: (-215:Assertion failed) !ssize.empty() in function 'cv::resize'\n",
     "output_type": "error",
     "traceback": [
      "\u001b[31m---------------------------------------------------------------------------\u001b[39m",
      "\u001b[31merror\u001b[39m                                     Traceback (most recent call last)",
      "\u001b[36mFile \u001b[39m\u001b[32m~\\docs\\GitHub\\nmr-lembo\\scripts\\roi_select.py:82\u001b[39m\n\u001b[32m     79\u001b[39m mode = \u001b[38;5;28;01mTrue\u001b[39;00m  \u001b[38;5;66;03m# If True, draw rectangle. Press 'm' to toggle to curve\u001b[39;00m\n\u001b[32m     81\u001b[39m \u001b[38;5;66;03m# Escalar la imagen para que se vea más grande\u001b[39;00m\n\u001b[32m---> \u001b[39m\u001b[32m82\u001b[39m im_scaled = \u001b[43mcv2\u001b[49m\u001b[43m.\u001b[49m\u001b[43mresize\u001b[49m\u001b[43m(\u001b[49m\u001b[43mim\u001b[49m\u001b[43m,\u001b[49m\u001b[43m \u001b[49m\u001b[38;5;28;43;01mNone\u001b[39;49;00m\u001b[43m,\u001b[49m\u001b[43m \u001b[49m\u001b[43mfx\u001b[49m\u001b[43m=\u001b[49m\u001b[43mscaling_factor\u001b[49m\u001b[43m,\u001b[49m\u001b[43m \u001b[49m\u001b[43mfy\u001b[49m\u001b[43m=\u001b[49m\u001b[43mscaling_factor\u001b[49m\u001b[43m)\u001b[49m\n\u001b[32m     83\u001b[39m mask = np.zeros_like(im_scaled)  \u001b[38;5;66;03m# Create a black image with the same size as im\u001b[39;00m\n\u001b[32m     85\u001b[39m cv2.namedWindow(\u001b[33m\"\u001b[39m\u001b[33mRoi_Select\u001b[39m\u001b[33m\"\u001b[39m)\n",
      "\u001b[31merror\u001b[39m: OpenCV(4.11.0) D:\\a\\opencv-python\\opencv-python\\opencv\\modules\\imgproc\\src\\resize.cpp:4208: error: (-215:Assertion failed) !ssize.empty() in function 'cv::resize'\n"
     ]
    }
   ],
   "source": [
    "%run scripts/roi_select.py"
   ]
  },
  {
   "cell_type": "markdown",
   "metadata": {},
   "source": [
    "# Data processing\n",
    "## Contrast vs g "
   ]
  },
  {
   "cell_type": "code",
   "execution_count": 1,
   "metadata": {},
   "outputs": [
    {
     "data": {
      "application/vnd.jupyter.widget-view+json": {
       "model_id": "ad4a2651c47f42c9b907a74dfcb9b3d4",
       "version_major": 2,
       "version_minor": 0
      },
      "text/plain": [
       "Text(value='results_fantomas_20230302', description='File Name:', layout=Layout(width='100%'), style=TextStyle…"
      ]
     },
     "metadata": {},
     "output_type": "display_data"
    },
    {
     "data": {
      "application/vnd.jupyter.widget-view+json": {
       "model_id": "295af25442ee452180183513517b3fd1",
       "version_major": 2,
       "version_minor": 0
      },
      "text/plain": [
       "Text(value='C:/Users/ignacio/data/data_fantomas_20230302', description='Data Dir:', layout=Layout(width='100%'…"
      ]
     },
     "metadata": {},
     "output_type": "display_data"
    },
    {
     "data": {
      "application/vnd.jupyter.widget-view+json": {
       "model_id": "5de64f1d9b304759b30d0204d320fb11",
       "version_major": 2,
       "version_minor": 0
      },
      "text/plain": [
       "Text(value='contrast_vs_g_data', description='Folder:', layout=Layout(width='100%'), style=TextStyle(descripti…"
      ]
     },
     "metadata": {},
     "output_type": "display_data"
    },
    {
     "data": {
      "application/vnd.jupyter.widget-view+json": {
       "model_id": "6fe02f61fa5841a5a29798c3955ebe94",
       "version_major": 2,
       "version_minor": 0
      },
      "text/plain": [
       "Text(value='Fibra_grande,Fibra_Chica, Agua', description='ROI:', layout=Layout(width='100%'), style=TextStyle(…"
      ]
     },
     "metadata": {},
     "output_type": "display_data"
    },
    {
     "data": {
      "application/vnd.jupyter.widget-view+json": {
       "model_id": "ea9c92b603374422873c8d14b1cfea51",
       "version_major": 2,
       "version_minor": 0
      },
      "text/plain": [
       "Text(value='1', description='Mask:', layout=Layout(width='100%'), style=TextStyle(description_width='initial')…"
      ]
     },
     "metadata": {},
     "output_type": "display_data"
    },
    {
     "data": {
      "application/vnd.jupyter.widget-view+json": {
       "model_id": "ee3ff5d13c9a4503babc031a03cf1fae",
       "version_major": 2,
       "version_minor": 0
      },
      "text/plain": [
       "Text(value='4', description='Mask Noise:', layout=Layout(width='100%'), style=TextStyle(description_width='ini…"
      ]
     },
     "metadata": {},
     "output_type": "display_data"
    },
    {
     "data": {
      "application/vnd.jupyter.widget-view+json": {
       "model_id": "76a3387be4074ab486578d052b76b0b0",
       "version_major": 2,
       "version_minor": 0
      },
      "text/plain": [
       "IntText(value=0, description='Slice:', layout=Layout(width='100%'), style=DescriptionStyle(description_width='…"
      ]
     },
     "metadata": {},
     "output_type": "display_data"
    },
    {
     "data": {
      "application/vnd.jupyter.widget-view+json": {
       "model_id": "14c9a874aa9342d984a12f61f32976a7",
       "version_major": 2,
       "version_minor": 0
      },
      "text/plain": [
       "Text(value='34-45,47-58', description='Ingrese un conjunto de rangos de carpetas, por ejemplo, 106-108,110-115…"
      ]
     },
     "metadata": {},
     "output_type": "display_data"
    },
    {
     "data": {
      "application/vnd.jupyter.widget-view+json": {
       "model_id": "21b14a2eaa3249228fa18a6fe19e46a8",
       "version_major": 2,
       "version_minor": 0
      },
      "text/plain": [
       "Button(description='Run Data Processing', layout=Layout(width='100%'), style=ButtonStyle())"
      ]
     },
     "metadata": {},
     "output_type": "display_data"
    },
    {
     "data": {
      "application/vnd.jupyter.widget-view+json": {
       "model_id": "79ebe274361e4244b7c20d4161b8b123",
       "version_major": 2,
       "version_minor": 0
      },
      "text/plain": [
       "Output()"
      ]
     },
     "metadata": {},
     "output_type": "display_data"
    }
   ],
   "source": [
    "%run scripts/data_processing.py"
   ]
  }
 ],
 "metadata": {
  "kernelspec": {
   "display_name": "Python 3",
   "language": "python",
   "name": "python3"
  },
  "language_info": {
   "codemirror_mode": {
    "name": "ipython",
    "version": 3
   },
   "file_extension": ".py",
   "mimetype": "text/x-python",
   "name": "python",
   "nbconvert_exporter": "python",
   "pygments_lexer": "ipython3",
   "version": "3.11.9"
  }
 },
 "nbformat": 4,
 "nbformat_minor": 2
}
